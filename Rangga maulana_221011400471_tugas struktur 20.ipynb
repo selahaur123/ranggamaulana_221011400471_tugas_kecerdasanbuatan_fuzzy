{
 "cells": [
  {
   "cell_type": "code",
   "execution_count": 3,
   "id": "84a0cc1c-703d-4137-928b-1157fcecd977",
   "metadata": {},
   "outputs": [
    {
     "name": "stdout",
     "output_type": "stream",
     "text": [
      "Output Produksi: 3000.00\n"
     ]
    }
   ],
   "source": [
    "import numpy as np\n",
    "\n",
    "def fuzzifikasi_permintaan(permintaan):\n",
    "    turun = max(0, min((3000 - permintaan) / 2000, 1))\n",
    "    tetap = max(0, min((permintaan - 1000) / 2000, (5000 - permintaan) / 2000))\n",
    "    naik = max(0, min((permintaan - 3000) / 2000, 1))\n",
    "    return {'Turun': turun, 'Tetap': tetap, 'Naik': naik}\n",
    "\n",
    "def fuzzifikasi_persediaan(persediaan):\n",
    "    sedikit = max(0, min((100 - persediaan) / 50, 1))\n",
    "    sedang = max(0, min((persediaan - 50) / 50, (150 - persediaan) / 50))\n",
    "    banyak = max(0, min((persediaan - 100) / 50, 1))\n",
    "    return {'Sedikit': sedikit, 'Sedang': sedang, 'Banyak': banyak}\n",
    "\n",
    "def inferensi(f_permintaan, f_persediaan):\n",
    "    # Rule base implementation\n",
    "    rules = []\n",
    "    # Jika Permintaan Turun dan Persediaan Sedikit maka produksi Bertambah\n",
    "    rules.append((min(f_permintaan['Turun'], f_persediaan['Sedikit']), 'Bertambah'))\n",
    "    # Jika Permintaan Turun dan Persediaan Sedang maka produksi Berkurang\n",
    "    rules.append((min(f_permintaan['Turun'], f_persediaan['Sedang']), 'Berkurang'))\n",
    "    # Jika Permintaan Turun dan Persediaan Banyak maka produksi Berkurang\n",
    "    rules.append((min(f_permintaan['Turun'], f_persediaan['Banyak']), 'Berkurang'))\n",
    "    # Jika Permintaan Tetap dan Persediaan Sedikit maka produksi Bertambah\n",
    "    rules.append((min(f_permintaan['Tetap'], f_persediaan['Sedikit']), 'Bertambah'))\n",
    "    # Jika Permintaan Tetap dan Persediaan Sedang maka produksi Berkurang\n",
    "    rules.append((min(f_permintaan['Tetap'], f_persediaan['Sedang']), 'Berkurang'))\n",
    "    # Jika Permintaan Tetap dan Persediaan Banyak maka produksi Berkurang\n",
    "    rules.append((min(f_permintaan['Tetap'], f_persediaan['Banyak']), 'Berkurang'))\n",
    "    # Jika Permintaan Naik dan Persediaan Sedikit maka produksi Bertambah\n",
    "    rules.append((min(f_permintaan['Naik'], f_persediaan['Sedikit']), 'Bertambah'))\n",
    "    # Jika Permintaan Naik dan Persediaan Sedang maka produksi Bertambah\n",
    "    rules.append((min(f_permintaan['Naik'], f_persediaan['Sedang']), 'Bertambah'))\n",
    "    # Jika Permintaan Naik dan Persediaan Banyak maka produksi Berkurang\n",
    "    rules.append((min(f_permintaan['Naik'], f_persediaan['Banyak']), 'Berkurang'))\n",
    "\n",
    "    return rules\n",
    "\n",
    "def defuzzifikasi(rules):\n",
    "    bertambah_vals = []\n",
    "    berkurang_vals = []\n",
    "\n",
    "    for rule in rules:\n",
    "        if rule[1] == 'Bertambah':\n",
    "            bertambah_vals.append(rule[0])\n",
    "        elif rule[1] == 'Berkurang':\n",
    "            berkurang_vals.append(rule[0])\n",
    "\n",
    "    if bertambah_vals:\n",
    "        bertambah = min(3000 + 2000 * np.max(bertambah_vals), 5000)\n",
    "    else:\n",
    "        bertambah = 0\n",
    "\n",
    "    if berkurang_vals:\n",
    "        berkurang = max(3000 - 2000 * np.max(berkurang_vals), 1000)\n",
    "    else:\n",
    "        berkurang = 0\n",
    "\n",
    "    return (bertambah + berkurang) / 2\n",
    "\n",
    "def fuzzy_tsukamoto(permintaan, persediaan):\n",
    "    f_permintaan = fuzzifikasi_permintaan(permintaan)\n",
    "    f_persediaan = fuzzifikasi_persediaan(persediaan)\n",
    "    rules = inferensi(f_permintaan, f_persediaan)\n",
    "    produksi = defuzzifikasi(rules)\n",
    "    return produksi\n",
    "\n",
    "# Contoh Input\n",
    "permintaan = 2500\n",
    "persediaan = 75\n",
    "produksi = fuzzy_tsukamoto(permintaan, persediaan)\n",
    "print(f\"Output Produksi: {produksi:.2f}\")\n"
   ]
  },
  {
   "cell_type": "code",
   "execution_count": null,
   "id": "bf64a016-8a53-4275-b3b8-b97e1f81e4a6",
   "metadata": {},
   "outputs": [],
   "source": []
  }
 ],
 "metadata": {
  "kernelspec": {
   "display_name": "Python 3 (ipykernel)",
   "language": "python",
   "name": "python3"
  },
  "language_info": {
   "codemirror_mode": {
    "name": "ipython",
    "version": 3
   },
   "file_extension": ".py",
   "mimetype": "text/x-python",
   "name": "python",
   "nbconvert_exporter": "python",
   "pygments_lexer": "ipython3",
   "version": "3.13.0rc2"
  }
 },
 "nbformat": 4,
 "nbformat_minor": 5
}
